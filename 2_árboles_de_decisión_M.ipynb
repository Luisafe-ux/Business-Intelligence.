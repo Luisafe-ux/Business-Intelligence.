{
  "nbformat": 4,
  "nbformat_minor": 0,
  "metadata": {
    "colab": {
      "provenance": [],
      "authorship_tag": "ABX9TyPKcZyaH/SJyt9R13i9ZRAo",
      "include_colab_link": true
    },
    "kernelspec": {
      "name": "python3",
      "display_name": "Python 3"
    },
    "language_info": {
      "name": "python"
    }
  },
  "cells": [
    {
      "cell_type": "markdown",
      "metadata": {
        "id": "view-in-github",
        "colab_type": "text"
      },
      "source": [
        "<a href=\"https://colab.research.google.com/github/Luisafe-ux/Business-Intelligence./blob/main/2_%C3%A1rboles_de_decisi%C3%B3n_M.ipynb\" target=\"_parent\"><img src=\"https://colab.research.google.com/assets/colab-badge.svg\" alt=\"Open In Colab\"/></a>"
      ]
    },
    {
      "cell_type": "code",
      "execution_count": null,
      "metadata": {
        "id": "CfRC6zXGEkpo"
      },
      "outputs": [],
      "source": []
    },
    {
      "cell_type": "markdown",
      "source": [
        "0. se procede con la carga de las librerias de trabajo"
      ],
      "metadata": {
        "id": "YvqImh3bE6m4"
      }
    },
    {
      "cell_type": "code",
      "source": [
        "#librerias científicas\n",
        "import pandas as pd\n",
        "import numpy as np\n",
        "\n",
        "#librerias Arbol\n",
        "from sklearn.tree import DecisionTreeClassifier\n",
        "from sklearn.metrics import confusion_matrix\n",
        "\n",
        "#conectar al Drive\n",
        "from google.colab import drive\n",
        "drive.mount('/content/drive')\n"
      ],
      "metadata": {
        "colab": {
          "base_uri": "https://localhost:8080/"
        },
        "id": "gzrfwMynFCeh",
        "outputId": "f3677e9b-9f48-44dd-e29d-ca2b8d72a9b6"
      },
      "execution_count": 4,
      "outputs": [
        {
          "output_type": "stream",
          "name": "stdout",
          "text": [
            "Drive already mounted at /content/drive; to attempt to forcibly remount, call drive.mount(\"/content/drive\", force_remount=True).\n"
          ]
        }
      ]
    },
    {
      "cell_type": "markdown",
      "source": [
        "**Descripción de los datos**\n",
        "\n",
        "De acuerdo con la base de datos de solicitantes de credito esta posee un total de 5842 datos totales, divididos en 2959 prenegados y 2883 preAprobados. cada uno de los solicitantes de creditos estará descrito en función 4 variables:\n",
        "*Edad: Indica el número de años de la persona.\n",
        "*Ingresos:se muestra la cantidad de ingresos totales registrados en un mes por el solicitante.\n",
        "*Egresos: Indica los gastos en los que incurre en  el mes una persona para cubrir sus necesidades básicas.\n",
        "Monto (EAD): Es la cantidad solicitada por una persona a la FINTCH\n",
        "Preapr: Indica la decsión del banco frente al otorgamiento de un crédito."
      ],
      "metadata": {
        "id": "tu3X1VnlZb5Y"
      }
    },
    {
      "cell_type": "markdown",
      "source": [
        "1.Se procede con la carga de los datos"
      ],
      "metadata": {
        "id": "cjddxktIHJc_"
      }
    },
    {
      "cell_type": "code",
      "source": [
        "nxl= '/content/drive/MyDrive/6. SolicitantesCrédito(USD).xlsx'\n",
        "XDB=pd.read_excel(nxl, sheet_name=1) #Base AAA\n",
        "XDB=XDB.dropna() #Eliminar filas vacias\n",
        "XDB.head(100) #Mostrar 100 líneas del archivo\n",
        "\n",
        "#Seleccionar las variables\n",
        "XD=XDB [['Edad', 'Ingresos','Egresos','Monto (EAD)']]\n",
        "yd=XDB[['PreApr']]"
      ],
      "metadata": {
        "id": "vHkkTyckHQTJ",
        "colab": {
          "base_uri": "https://localhost:8080/",
          "height": 424
        },
        "outputId": "c8f27d5e-026f-4466-b5b5-0957de517c6f"
      },
      "execution_count": 7,
      "outputs": [
        {
          "output_type": "execute_result",
          "data": {
            "text/plain": [
              "      Edad    Ingresos      Egresos  Monto (EAD)\n",
              "0       38  1356.14400  1685.622667   625.562230\n",
              "1       51   286.01600   364.462000   140.031984\n",
              "2       37   517.46325   629.208889   284.564492\n",
              "3       29   473.27000   551.616889   309.647588\n",
              "4       42   750.09175   806.715778   500.663578\n",
              "...    ...         ...          ...          ...\n",
              "5837    48  1207.84800   753.801111   748.041791\n",
              "5838    31  1472.77200   953.812889   870.793819\n",
              "5839    38   773.01975   672.910667   594.947894\n",
              "5840    43   635.50175   780.691556   305.580539\n",
              "5841    37  1419.26675  1169.838444  1005.636871\n",
              "\n",
              "[5842 rows x 4 columns]"
            ],
            "text/html": [
              "\n",
              "  <div id=\"df-10d904fb-ba7b-4723-a3df-2fad3b7157f7\" class=\"colab-df-container\">\n",
              "    <div>\n",
              "<style scoped>\n",
              "    .dataframe tbody tr th:only-of-type {\n",
              "        vertical-align: middle;\n",
              "    }\n",
              "\n",
              "    .dataframe tbody tr th {\n",
              "        vertical-align: top;\n",
              "    }\n",
              "\n",
              "    .dataframe thead th {\n",
              "        text-align: right;\n",
              "    }\n",
              "</style>\n",
              "<table border=\"1\" class=\"dataframe\">\n",
              "  <thead>\n",
              "    <tr style=\"text-align: right;\">\n",
              "      <th></th>\n",
              "      <th>Edad</th>\n",
              "      <th>Ingresos</th>\n",
              "      <th>Egresos</th>\n",
              "      <th>Monto (EAD)</th>\n",
              "    </tr>\n",
              "  </thead>\n",
              "  <tbody>\n",
              "    <tr>\n",
              "      <th>0</th>\n",
              "      <td>38</td>\n",
              "      <td>1356.14400</td>\n",
              "      <td>1685.622667</td>\n",
              "      <td>625.562230</td>\n",
              "    </tr>\n",
              "    <tr>\n",
              "      <th>1</th>\n",
              "      <td>51</td>\n",
              "      <td>286.01600</td>\n",
              "      <td>364.462000</td>\n",
              "      <td>140.031984</td>\n",
              "    </tr>\n",
              "    <tr>\n",
              "      <th>2</th>\n",
              "      <td>37</td>\n",
              "      <td>517.46325</td>\n",
              "      <td>629.208889</td>\n",
              "      <td>284.564492</td>\n",
              "    </tr>\n",
              "    <tr>\n",
              "      <th>3</th>\n",
              "      <td>29</td>\n",
              "      <td>473.27000</td>\n",
              "      <td>551.616889</td>\n",
              "      <td>309.647588</td>\n",
              "    </tr>\n",
              "    <tr>\n",
              "      <th>4</th>\n",
              "      <td>42</td>\n",
              "      <td>750.09175</td>\n",
              "      <td>806.715778</td>\n",
              "      <td>500.663578</td>\n",
              "    </tr>\n",
              "    <tr>\n",
              "      <th>...</th>\n",
              "      <td>...</td>\n",
              "      <td>...</td>\n",
              "      <td>...</td>\n",
              "      <td>...</td>\n",
              "    </tr>\n",
              "    <tr>\n",
              "      <th>5837</th>\n",
              "      <td>48</td>\n",
              "      <td>1207.84800</td>\n",
              "      <td>753.801111</td>\n",
              "      <td>748.041791</td>\n",
              "    </tr>\n",
              "    <tr>\n",
              "      <th>5838</th>\n",
              "      <td>31</td>\n",
              "      <td>1472.77200</td>\n",
              "      <td>953.812889</td>\n",
              "      <td>870.793819</td>\n",
              "    </tr>\n",
              "    <tr>\n",
              "      <th>5839</th>\n",
              "      <td>38</td>\n",
              "      <td>773.01975</td>\n",
              "      <td>672.910667</td>\n",
              "      <td>594.947894</td>\n",
              "    </tr>\n",
              "    <tr>\n",
              "      <th>5840</th>\n",
              "      <td>43</td>\n",
              "      <td>635.50175</td>\n",
              "      <td>780.691556</td>\n",
              "      <td>305.580539</td>\n",
              "    </tr>\n",
              "    <tr>\n",
              "      <th>5841</th>\n",
              "      <td>37</td>\n",
              "      <td>1419.26675</td>\n",
              "      <td>1169.838444</td>\n",
              "      <td>1005.636871</td>\n",
              "    </tr>\n",
              "  </tbody>\n",
              "</table>\n",
              "<p>5842 rows × 4 columns</p>\n",
              "</div>\n",
              "    <div class=\"colab-df-buttons\">\n",
              "\n",
              "  <div class=\"colab-df-container\">\n",
              "    <button class=\"colab-df-convert\" onclick=\"convertToInteractive('df-10d904fb-ba7b-4723-a3df-2fad3b7157f7')\"\n",
              "            title=\"Convert this dataframe to an interactive table.\"\n",
              "            style=\"display:none;\">\n",
              "\n",
              "  <svg xmlns=\"http://www.w3.org/2000/svg\" height=\"24px\" viewBox=\"0 -960 960 960\">\n",
              "    <path d=\"M120-120v-720h720v720H120Zm60-500h600v-160H180v160Zm220 220h160v-160H400v160Zm0 220h160v-160H400v160ZM180-400h160v-160H180v160Zm440 0h160v-160H620v160ZM180-180h160v-160H180v160Zm440 0h160v-160H620v160Z\"/>\n",
              "  </svg>\n",
              "    </button>\n",
              "\n",
              "  <style>\n",
              "    .colab-df-container {\n",
              "      display:flex;\n",
              "      gap: 12px;\n",
              "    }\n",
              "\n",
              "    .colab-df-convert {\n",
              "      background-color: #E8F0FE;\n",
              "      border: none;\n",
              "      border-radius: 50%;\n",
              "      cursor: pointer;\n",
              "      display: none;\n",
              "      fill: #1967D2;\n",
              "      height: 32px;\n",
              "      padding: 0 0 0 0;\n",
              "      width: 32px;\n",
              "    }\n",
              "\n",
              "    .colab-df-convert:hover {\n",
              "      background-color: #E2EBFA;\n",
              "      box-shadow: 0px 1px 2px rgba(60, 64, 67, 0.3), 0px 1px 3px 1px rgba(60, 64, 67, 0.15);\n",
              "      fill: #174EA6;\n",
              "    }\n",
              "\n",
              "    .colab-df-buttons div {\n",
              "      margin-bottom: 4px;\n",
              "    }\n",
              "\n",
              "    [theme=dark] .colab-df-convert {\n",
              "      background-color: #3B4455;\n",
              "      fill: #D2E3FC;\n",
              "    }\n",
              "\n",
              "    [theme=dark] .colab-df-convert:hover {\n",
              "      background-color: #434B5C;\n",
              "      box-shadow: 0px 1px 3px 1px rgba(0, 0, 0, 0.15);\n",
              "      filter: drop-shadow(0px 1px 2px rgba(0, 0, 0, 0.3));\n",
              "      fill: #FFFFFF;\n",
              "    }\n",
              "  </style>\n",
              "\n",
              "    <script>\n",
              "      const buttonEl =\n",
              "        document.querySelector('#df-10d904fb-ba7b-4723-a3df-2fad3b7157f7 button.colab-df-convert');\n",
              "      buttonEl.style.display =\n",
              "        google.colab.kernel.accessAllowed ? 'block' : 'none';\n",
              "\n",
              "      async function convertToInteractive(key) {\n",
              "        const element = document.querySelector('#df-10d904fb-ba7b-4723-a3df-2fad3b7157f7');\n",
              "        const dataTable =\n",
              "          await google.colab.kernel.invokeFunction('convertToInteractive',\n",
              "                                                    [key], {});\n",
              "        if (!dataTable) return;\n",
              "\n",
              "        const docLinkHtml = 'Like what you see? Visit the ' +\n",
              "          '<a target=\"_blank\" href=https://colab.research.google.com/notebooks/data_table.ipynb>data table notebook</a>'\n",
              "          + ' to learn more about interactive tables.';\n",
              "        element.innerHTML = '';\n",
              "        dataTable['output_type'] = 'display_data';\n",
              "        await google.colab.output.renderOutput(dataTable, element);\n",
              "        const docLink = document.createElement('div');\n",
              "        docLink.innerHTML = docLinkHtml;\n",
              "        element.appendChild(docLink);\n",
              "      }\n",
              "    </script>\n",
              "  </div>\n",
              "\n",
              "\n",
              "<div id=\"df-7c9e5e7b-aa43-45ea-8bab-30a488bb8588\">\n",
              "  <button class=\"colab-df-quickchart\" onclick=\"quickchart('df-7c9e5e7b-aa43-45ea-8bab-30a488bb8588')\"\n",
              "            title=\"Suggest charts\"\n",
              "            style=\"display:none;\">\n",
              "\n",
              "<svg xmlns=\"http://www.w3.org/2000/svg\" height=\"24px\"viewBox=\"0 0 24 24\"\n",
              "     width=\"24px\">\n",
              "    <g>\n",
              "        <path d=\"M19 3H5c-1.1 0-2 .9-2 2v14c0 1.1.9 2 2 2h14c1.1 0 2-.9 2-2V5c0-1.1-.9-2-2-2zM9 17H7v-7h2v7zm4 0h-2V7h2v10zm4 0h-2v-4h2v4z\"/>\n",
              "    </g>\n",
              "</svg>\n",
              "  </button>\n",
              "\n",
              "<style>\n",
              "  .colab-df-quickchart {\n",
              "      --bg-color: #E8F0FE;\n",
              "      --fill-color: #1967D2;\n",
              "      --hover-bg-color: #E2EBFA;\n",
              "      --hover-fill-color: #174EA6;\n",
              "      --disabled-fill-color: #AAA;\n",
              "      --disabled-bg-color: #DDD;\n",
              "  }\n",
              "\n",
              "  [theme=dark] .colab-df-quickchart {\n",
              "      --bg-color: #3B4455;\n",
              "      --fill-color: #D2E3FC;\n",
              "      --hover-bg-color: #434B5C;\n",
              "      --hover-fill-color: #FFFFFF;\n",
              "      --disabled-bg-color: #3B4455;\n",
              "      --disabled-fill-color: #666;\n",
              "  }\n",
              "\n",
              "  .colab-df-quickchart {\n",
              "    background-color: var(--bg-color);\n",
              "    border: none;\n",
              "    border-radius: 50%;\n",
              "    cursor: pointer;\n",
              "    display: none;\n",
              "    fill: var(--fill-color);\n",
              "    height: 32px;\n",
              "    padding: 0;\n",
              "    width: 32px;\n",
              "  }\n",
              "\n",
              "  .colab-df-quickchart:hover {\n",
              "    background-color: var(--hover-bg-color);\n",
              "    box-shadow: 0 1px 2px rgba(60, 64, 67, 0.3), 0 1px 3px 1px rgba(60, 64, 67, 0.15);\n",
              "    fill: var(--button-hover-fill-color);\n",
              "  }\n",
              "\n",
              "  .colab-df-quickchart-complete:disabled,\n",
              "  .colab-df-quickchart-complete:disabled:hover {\n",
              "    background-color: var(--disabled-bg-color);\n",
              "    fill: var(--disabled-fill-color);\n",
              "    box-shadow: none;\n",
              "  }\n",
              "\n",
              "  .colab-df-spinner {\n",
              "    border: 2px solid var(--fill-color);\n",
              "    border-color: transparent;\n",
              "    border-bottom-color: var(--fill-color);\n",
              "    animation:\n",
              "      spin 1s steps(1) infinite;\n",
              "  }\n",
              "\n",
              "  @keyframes spin {\n",
              "    0% {\n",
              "      border-color: transparent;\n",
              "      border-bottom-color: var(--fill-color);\n",
              "      border-left-color: var(--fill-color);\n",
              "    }\n",
              "    20% {\n",
              "      border-color: transparent;\n",
              "      border-left-color: var(--fill-color);\n",
              "      border-top-color: var(--fill-color);\n",
              "    }\n",
              "    30% {\n",
              "      border-color: transparent;\n",
              "      border-left-color: var(--fill-color);\n",
              "      border-top-color: var(--fill-color);\n",
              "      border-right-color: var(--fill-color);\n",
              "    }\n",
              "    40% {\n",
              "      border-color: transparent;\n",
              "      border-right-color: var(--fill-color);\n",
              "      border-top-color: var(--fill-color);\n",
              "    }\n",
              "    60% {\n",
              "      border-color: transparent;\n",
              "      border-right-color: var(--fill-color);\n",
              "    }\n",
              "    80% {\n",
              "      border-color: transparent;\n",
              "      border-right-color: var(--fill-color);\n",
              "      border-bottom-color: var(--fill-color);\n",
              "    }\n",
              "    90% {\n",
              "      border-color: transparent;\n",
              "      border-bottom-color: var(--fill-color);\n",
              "    }\n",
              "  }\n",
              "</style>\n",
              "\n",
              "  <script>\n",
              "    async function quickchart(key) {\n",
              "      const quickchartButtonEl =\n",
              "        document.querySelector('#' + key + ' button');\n",
              "      quickchartButtonEl.disabled = true;  // To prevent multiple clicks.\n",
              "      quickchartButtonEl.classList.add('colab-df-spinner');\n",
              "      try {\n",
              "        const charts = await google.colab.kernel.invokeFunction(\n",
              "            'suggestCharts', [key], {});\n",
              "      } catch (error) {\n",
              "        console.error('Error during call to suggestCharts:', error);\n",
              "      }\n",
              "      quickchartButtonEl.classList.remove('colab-df-spinner');\n",
              "      quickchartButtonEl.classList.add('colab-df-quickchart-complete');\n",
              "    }\n",
              "    (() => {\n",
              "      let quickchartButtonEl =\n",
              "        document.querySelector('#df-7c9e5e7b-aa43-45ea-8bab-30a488bb8588 button');\n",
              "      quickchartButtonEl.style.display =\n",
              "        google.colab.kernel.accessAllowed ? 'block' : 'none';\n",
              "    })();\n",
              "  </script>\n",
              "</div>\n",
              "\n",
              "  <div id=\"id_3228f640-9488-4a48-91ca-ed4685866ce1\">\n",
              "    <style>\n",
              "      .colab-df-generate {\n",
              "        background-color: #E8F0FE;\n",
              "        border: none;\n",
              "        border-radius: 50%;\n",
              "        cursor: pointer;\n",
              "        display: none;\n",
              "        fill: #1967D2;\n",
              "        height: 32px;\n",
              "        padding: 0 0 0 0;\n",
              "        width: 32px;\n",
              "      }\n",
              "\n",
              "      .colab-df-generate:hover {\n",
              "        background-color: #E2EBFA;\n",
              "        box-shadow: 0px 1px 2px rgba(60, 64, 67, 0.3), 0px 1px 3px 1px rgba(60, 64, 67, 0.15);\n",
              "        fill: #174EA6;\n",
              "      }\n",
              "\n",
              "      [theme=dark] .colab-df-generate {\n",
              "        background-color: #3B4455;\n",
              "        fill: #D2E3FC;\n",
              "      }\n",
              "\n",
              "      [theme=dark] .colab-df-generate:hover {\n",
              "        background-color: #434B5C;\n",
              "        box-shadow: 0px 1px 3px 1px rgba(0, 0, 0, 0.15);\n",
              "        filter: drop-shadow(0px 1px 2px rgba(0, 0, 0, 0.3));\n",
              "        fill: #FFFFFF;\n",
              "      }\n",
              "    </style>\n",
              "    <button class=\"colab-df-generate\" onclick=\"generateWithVariable('XD')\"\n",
              "            title=\"Generate code using this dataframe.\"\n",
              "            style=\"display:none;\">\n",
              "\n",
              "  <svg xmlns=\"http://www.w3.org/2000/svg\" height=\"24px\"viewBox=\"0 0 24 24\"\n",
              "       width=\"24px\">\n",
              "    <path d=\"M7,19H8.4L18.45,9,17,7.55,7,17.6ZM5,21V16.75L18.45,3.32a2,2,0,0,1,2.83,0l1.4,1.43a1.91,1.91,0,0,1,.58,1.4,1.91,1.91,0,0,1-.58,1.4L9.25,21ZM18.45,9,17,7.55Zm-12,3A5.31,5.31,0,0,0,4.9,8.1,5.31,5.31,0,0,0,1,6.5,5.31,5.31,0,0,0,4.9,4.9,5.31,5.31,0,0,0,6.5,1,5.31,5.31,0,0,0,8.1,4.9,5.31,5.31,0,0,0,12,6.5,5.46,5.46,0,0,0,6.5,12Z\"/>\n",
              "  </svg>\n",
              "    </button>\n",
              "    <script>\n",
              "      (() => {\n",
              "      const buttonEl =\n",
              "        document.querySelector('#id_3228f640-9488-4a48-91ca-ed4685866ce1 button.colab-df-generate');\n",
              "      buttonEl.style.display =\n",
              "        google.colab.kernel.accessAllowed ? 'block' : 'none';\n",
              "\n",
              "      buttonEl.onclick = () => {\n",
              "        google.colab.notebook.generateWithVariable('XD');\n",
              "      }\n",
              "      })();\n",
              "    </script>\n",
              "  </div>\n",
              "\n",
              "    </div>\n",
              "  </div>\n"
            ],
            "application/vnd.google.colaboratory.intrinsic+json": {
              "type": "dataframe",
              "variable_name": "XD",
              "summary": "{\n  \"name\": \"XD\",\n  \"rows\": 5842,\n  \"fields\": [\n    {\n      \"column\": \"Edad\",\n      \"properties\": {\n        \"dtype\": \"number\",\n        \"std\": 12,\n        \"min\": 21,\n        \"max\": 73,\n        \"num_unique_values\": 47,\n        \"samples\": [\n          67,\n          39,\n          69\n        ],\n        \"semantic_type\": \"\",\n        \"description\": \"\"\n      }\n    },\n    {\n      \"column\": \"Ingresos\",\n      \"properties\": {\n        \"dtype\": \"number\",\n        \"std\": 503.4928039527967,\n        \"min\": 1.21025,\n        \"max\": 2994.88475,\n        \"num_unique_values\": 5838,\n        \"samples\": [\n          549.66275,\n          315.82025,\n          915.546\n        ],\n        \"semantic_type\": \"\",\n        \"description\": \"\"\n      }\n    },\n    {\n      \"column\": \"Egresos\",\n      \"properties\": {\n        \"dtype\": \"number\",\n        \"std\": 507.887853405177,\n        \"min\": 0.5591111111111111,\n        \"max\": 3141.7393333333334,\n        \"num_unique_values\": 5841,\n        \"samples\": [\n          807.7784444444444,\n          375.18355555555553,\n          740.1155555555556\n        ],\n        \"semantic_type\": \"\",\n        \"description\": \"\"\n      }\n    },\n    {\n      \"column\": \"Monto (EAD)\",\n      \"properties\": {\n        \"dtype\": \"number\",\n        \"std\": 444.58351184705685,\n        \"min\": 0.897111494022675,\n        \"max\": 4075.5128347810733,\n        \"num_unique_values\": 5842,\n        \"samples\": [\n          172.44210775935198,\n          137.73504931019446,\n          723.5901812936685\n        ],\n        \"semantic_type\": \"\",\n        \"description\": \"\"\n      }\n    }\n  ]\n}"
            }
          },
          "metadata": {},
          "execution_count": 7
        }
      ]
    },
    {
      "cell_type": "markdown",
      "source": [
        "2. Se procede con la implementación del modelo"
      ],
      "metadata": {
        "id": "uwz8HmgsJh_d"
      }
    },
    {
      "cell_type": "code",
      "source": [
        "mar=DecisionTreeClassifier(criterion='gini',max_depth=4)\n",
        "mar.fit(XD,yd)\n",
        "\n",
        "#Se procede con la gráfica}\n",
        "from pydotplus import graph_from_dot_data #me crea la grafica\n",
        "from sklearn.tree import export_graphviz #me exporta a PNG, JPEG, TIFF\n",
        "\n",
        "ve=['Edad', 'Ingresos','Egresos','Monto (EAD)'] #Nombres para el árbol\n",
        "dot_data=export_graphviz(mar, feature_names=ve) #Craer el grafico\n",
        "graph=graph_from_dot_data(dot_data)\n",
        "graph.write_png('arbol.png')\n"
      ],
      "metadata": {
        "colab": {
          "base_uri": "https://localhost:8080/"
        },
        "id": "ZifFaH6JJm8Q",
        "outputId": "a23ee8ff-9727-4944-dda0-4cea15b623ad"
      },
      "execution_count": 8,
      "outputs": [
        {
          "output_type": "execute_result",
          "data": {
            "text/plain": [
              "True"
            ]
          },
          "metadata": {},
          "execution_count": 8
        }
      ]
    },
    {
      "cell_type": "markdown",
      "source": [
        "Los nodos puros (0). buscarlos en el arbol.\n",
        "indice gini (0) o cercanos a gini\n"
      ],
      "metadata": {
        "id": "MSmhYz2mMlCX"
      }
    },
    {
      "cell_type": "markdown",
      "source": [
        "3. se procede con el pronocstico de los solicitantes que no poseeen PreApr"
      ],
      "metadata": {
        "id": "iBC6wYxWQi_A"
      }
    },
    {
      "cell_type": "code",
      "source": [],
      "metadata": {
        "id": "qhYrHrokRDRM"
      },
      "execution_count": null,
      "outputs": []
    },
    {
      "cell_type": "code",
      "source": [
        "XDBO=pd.read_excel(nxl, sheet_name=0) #Base AAA\n",
        "XDBO.head(100) #Mostrar 100 líneas del archivo\n",
        "\n",
        "#Se crea la base de datos a pronosticar\n",
        "XD0=XDBO [['Edad', 'Ingresos','Egresos','Monto (EAD)']]\n",
        "yd0=XDBO[['PreApr']]\n",
        "\n",
        "#Determinar las filas de los solicitantes que no poseen PreApr\n",
        "filas=np.where(np.isnan(yd0))[0] #la segunda fila es un error\n",
        "\n",
        "XD0=np.array(XD0) #Tabla operable\n",
        "XD0=XD0[filas]\n",
        "\n",
        "#Le calculamos la preaprobación a los solicitantes\n",
        "y_pred=mar.predict(XD0)\n",
        "\n",
        "#Se crea el informe en EXCEL\n",
        "df=pd.DataFrame(np.column_stack((filas,XD0,y_pred)))\n",
        "df.columns=['Solicitante','Edad','Ingresos','Egresos','Monto (EAD)','PreaApr']\n",
        "df.to_excel(\"Evaluación Créditos.xlsx\")"
      ],
      "metadata": {
        "colab": {
          "base_uri": "https://localhost:8080/"
        },
        "id": "0bUGZv-PQpyQ",
        "outputId": "6b4783f7-ac51-4530-d083-a9784ab4566f"
      },
      "execution_count": 9,
      "outputs": [
        {
          "output_type": "stream",
          "name": "stderr",
          "text": [
            "/usr/local/lib/python3.11/dist-packages/sklearn/utils/validation.py:2739: UserWarning: X does not have valid feature names, but DecisionTreeClassifier was fitted with feature names\n",
            "  warnings.warn(\n"
          ]
        }
      ]
    },
    {
      "cell_type": "markdown",
      "source": [
        "4. Evaluar el comportamiento del modelo\n"
      ],
      "metadata": {
        "id": "o_tusVM_WGhl"
      }
    },
    {
      "cell_type": "code",
      "source": [
        "ydp=mar.predict(XD)  #pronostico sobre la base de datos original\n",
        "cm=confusion_matrix(yd,ydp)\n",
        "print(\"La matriz de confusión es:\\n\",cm)\n",
        "\n",
        "VN=cm[0,0];FP=cm[0,1];FN=cm[1,0];VP=cm[1,1]\n",
        "\n",
        "Exactitud=(VP+VN)/(VP+VN+FP+FN)\n",
        "print(\"La exactitud del modelo es:\\n\",Exactitud)\n",
        "\n",
        "Sensibilidad=VP/(VP+FN)\n",
        "print(\"La sensibilidad del modelo es:\\n\",Sensibilidad)\n",
        "\n",
        "Especificidad=VN/(VN+FP)\n",
        "print(\"La especificidad del modelo es:\\n\",Especificidad)\n",
        "\n",
        "Precision=VP/(VP+FP)\n",
        "print(\"La precisión del modelo es:\\n\",Precision)\n",
        "\n",
        "TasaError=(FP+FN)/(VP+VN+FP+FN)\n",
        "print(\"La tasa de error del modelo es:\\n\",TasaError)\n",
        "\n",
        "PredNeg=VN/(VN+FN)\n",
        "print(\"La tasa de falsos negativos del modelo es:\\n\",PredNeg)\n"
      ],
      "metadata": {
        "colab": {
          "base_uri": "https://localhost:8080/"
        },
        "id": "PaW5WQ1rWKmo",
        "outputId": "732bd68e-9c18-4296-eaaa-661a1b59f2cd"
      },
      "execution_count": 10,
      "outputs": [
        {
          "output_type": "stream",
          "name": "stdout",
          "text": [
            "La matriz de confusión es:\n",
            " [[2301  658]\n",
            " [ 644 2239]]\n",
            "La exactitud del modelo es:\n",
            " 0.7771311194796303\n",
            "La sensibilidad del modelo es:\n",
            " 0.7766215747485259\n",
            "La especificidad del modelo es:\n",
            " 0.7776275768840825\n",
            "La precisión del modelo es:\n",
            " 0.772868484639282\n",
            "La tasa de error del modelo es:\n",
            " 0.22286888052036974\n",
            "La tasa de falsos negativos del modelo es:\n",
            " 0.7813242784380305\n"
          ]
        }
      ]
    },
    {
      "cell_type": "markdown",
      "source": [
        "**Análisis de resultados**\n",
        "\n",
        "La matriz de confusión muestra una predominancia por los valores negativos (23021) y los valores de verdaderos positivos (2239). lo anterior hizo que el modelo alcanzara valores por encima del 75% para los indices exactitud, sensibilidad, especificidad,precisión lo que muestra claramente el buen funcionamiento del modelo frente al pronostico DE LA PREAPORBACIÓN. Con respecto al pronostico de nuevos solicitantes de crédito, la base de datos mostro un total de 2536 solicitantes sin decisión de crédito, se destacan un totak de NDA solicitudes preaprobadas y un total de NDN solicitudes prenegadas. Se destaca que el número de prenegados o preaprobados estuvo por encima del número de prenegados y preaprobados.\n",
        "De acuerdo con los índices, el modelo muestra un mejor comportamiento frente a la especificidad (0.777) o clasificación de prenegados, a diferencia de la sensibilidad la cual estuvo por encima del 75% en promedio (0.776)\n"
      ],
      "metadata": {
        "id": "pA6SixHoayOU"
      }
    },
    {
      "cell_type": "markdown",
      "source": [],
      "metadata": {
        "id": "0YoePeXPZWKi"
      }
    }
  ]
}