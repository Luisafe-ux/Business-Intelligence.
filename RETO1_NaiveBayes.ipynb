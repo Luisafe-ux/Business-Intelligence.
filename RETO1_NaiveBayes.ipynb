{
  "nbformat": 4,
  "nbformat_minor": 0,
  "metadata": {
    "colab": {
      "provenance": [],
      "include_colab_link": true
    },
    "kernelspec": {
      "name": "python3",
      "display_name": "Python 3"
    },
    "language_info": {
      "name": "python"
    }
  },
  "cells": [
    {
      "cell_type": "markdown",
      "metadata": {
        "id": "view-in-github",
        "colab_type": "text"
      },
      "source": [
        "<a href=\"https://colab.research.google.com/github/Luisafe-ux/Business-Intelligence./blob/main/RETO1_NaiveBayes.ipynb\" target=\"_parent\"><img src=\"https://colab.research.google.com/assets/colab-badge.svg\" alt=\"Open In Colab\"/></a>"
      ]
    },
    {
      "cell_type": "markdown",
      "source": [
        "0. Se procede a cargar las librerías de trabajo"
      ],
      "metadata": {
        "id": "TNU2acy1mkLI"
      }
    },
    {
      "cell_type": "code",
      "source": [
        "import numpy as np\n",
        "import pandas as pd\n",
        "\n",
        "\n",
        "#conectar al Drive\n",
        "from google.colab import drive\n",
        "drive.mount('/content/drive')"
      ],
      "metadata": {
        "id": "u4Mvw2ism1yX",
        "colab": {
          "base_uri": "https://localhost:8080/"
        },
        "outputId": "bca455ec-3c25-4544-b7d3-7bde92705630"
      },
      "execution_count": 10,
      "outputs": [
        {
          "output_type": "stream",
          "name": "stdout",
          "text": [
            "Drive already mounted at /content/drive; to attempt to forcibly remount, call drive.mount(\"/content/drive\", force_remount=True).\n"
          ]
        }
      ]
    },
    {
      "cell_type": "markdown",
      "source": [
        "1. Cargar la base de datos"
      ],
      "metadata": {
        "id": "1e0s2TEMm_DU"
      }
    },
    {
      "cell_type": "code",
      "source": [
        "nxl='/content/drive/MyDrive/1. BD1_Longitudinal Survey_Int.xlsx'\n",
        "XDB=pd.read_excel(nxl,sheet_name=0)\n",
        "XDB.head(50)\n",
        "\n",
        "#Se seleccionan las variables de interés\n",
        "XDB=XDB[['Age','Mother_Edu','Father_Edu','FamilySize','Self_Esteem','Height','Weight','Income','Urban']]\n",
        "XDB.head(10)\n",
        "\n",
        "columnas_considerar = ['Age', 'Mother_Edu', 'Father_Edu', 'Height', 'Weight', 'Income', 'Self_Esteem', 'FamilySize', 'Urban']\n",
        "XDB_1 = XDB.dropna(subset=columnas_considerar)\n",
        "XDB_1.head(50)\n",
        "\n",
        "#Se separan las variables de entrada y salida\n",
        "XD=XDB_1[['Age','Mother_Edu','Father_Edu','FamilySize','Self_Esteem','Height','Weight','Income']] #Variables de Entrada\n",
        "yd=XDB_1[['Urban']]   #Variable de salida - variable Pronóstico"
      ],
      "metadata": {
        "id": "OHthe14znOB_"
      },
      "execution_count": 11,
      "outputs": []
    },
    {
      "cell_type": "markdown",
      "source": [
        "2. Número total de la base de datos antes y después de la depuración"
      ],
      "metadata": {
        "id": "92LpddxCtU07"
      }
    },
    {
      "cell_type": "code",
      "source": [
        "# Obtener el número total de datos antes de la depuración\n",
        "total_datos = len(XDB)\n",
        "print(f\"Número total de datos: {total_datos}\")"
      ],
      "metadata": {
        "colab": {
          "base_uri": "https://localhost:8080/"
        },
        "id": "aNbESq1etZSS",
        "outputId": "baa0c0bf-7d7d-4c02-a25d-59929337503f"
      },
      "execution_count": 12,
      "outputs": [
        {
          "output_type": "stream",
          "name": "stdout",
          "text": [
            "Número total de datos: 12686\n"
          ]
        }
      ]
    },
    {
      "cell_type": "code",
      "source": [
        "# Obtener el número total de datos después de la depuración\n",
        "total_datos1 = len(XDB_1)\n",
        "print(f\"Número total de datos: {total_datos1}\")"
      ],
      "metadata": {
        "colab": {
          "base_uri": "https://localhost:8080/"
        },
        "id": "PahNQXXzuN3g",
        "outputId": "2f8165a1-6a77-4ab6-dcc7-c26eea089af8"
      },
      "execution_count": 13,
      "outputs": [
        {
          "output_type": "stream",
          "name": "stdout",
          "text": [
            "Número total de datos: 5948\n"
          ]
        }
      ]
    },
    {
      "cell_type": "markdown",
      "source": [
        "3. Porcentaje de los datos que hacen parte de cada una de las categorías de clasificación antes y después de la depuración."
      ],
      "metadata": {
        "id": "90lPUm47vMBR"
      }
    },
    {
      "cell_type": "code",
      "source": [
        "# Obtener el porcentaje de datos en las categorías de clasificación antes de la depuración\n",
        "\n",
        "porcentaje= (XDB.count() / total_datos) * 100\n",
        "print(\"\\nPorcentaje de datos por variable:\")\n",
        "print(porcentaje)\n",
        "\n"
      ],
      "metadata": {
        "colab": {
          "base_uri": "https://localhost:8080/"
        },
        "id": "dxuPAPEEDYNm",
        "outputId": "f19ce7f9-7386-4dbd-e1a4-688ec8369ef9"
      },
      "execution_count": null,
      "outputs": [
        {
          "output_type": "stream",
          "name": "stdout",
          "text": [
            "\n",
            "Porcentaje de datos por variable:\n",
            "Age            100.000000\n",
            "Mother_Edu      93.630774\n",
            "Father_Edu      85.763834\n",
            "FamilySize     100.000000\n",
            "Self_Esteem     94.529402\n",
            "Height          95.719691\n",
            "Weight          95.632981\n",
            "Income          59.703610\n",
            "Urban           99.684692\n",
            "dtype: float64\n"
          ]
        }
      ]
    },
    {
      "cell_type": "code",
      "source": [
        "# Obtener el porcentaje de datos en las categorías de clasificación antes de la depuración\n",
        "\n",
        "porcentaje= (XDB_1.count() / total_datos1) * 100\n",
        "print(\"\\nPorcentaje de datos por variable:\")\n",
        "print(porcentaje)\n"
      ],
      "metadata": {
        "colab": {
          "base_uri": "https://localhost:8080/"
        },
        "id": "HNRWQMXXuwHU",
        "outputId": "3dd2185b-5c54-4fe6-cea2-c741866fb197"
      },
      "execution_count": null,
      "outputs": [
        {
          "output_type": "stream",
          "name": "stdout",
          "text": [
            "\n",
            "Porcentaje de datos por variable:\n",
            "Age            100.0\n",
            "Mother_Edu     100.0\n",
            "Father_Edu     100.0\n",
            "FamilySize     100.0\n",
            "Self_Esteem    100.0\n",
            "Height         100.0\n",
            "Weight         100.0\n",
            "Income         100.0\n",
            "Urban          100.0\n",
            "dtype: float64\n"
          ]
        }
      ]
    },
    {
      "cell_type": "code",
      "source": [
        "# Obtener el porcentaje de los que viven en el área urbana y los que viven en área rural.\n",
        "ND1=len(np.where((yd==1))[0])\n",
        "print(ND1/len(XD))      #vive en el área urbana\n",
        "\n",
        "ND2=len(np.where((yd==0))[0])\n",
        "print(ND2/len(XD))      #no vive en el área urbana\n"
      ],
      "metadata": {
        "colab": {
          "base_uri": "https://localhost:8080/"
        },
        "id": "mY-nQR2cscPD",
        "outputId": "09098a76-e22d-4195-e8ff-6f0afc73e857"
      },
      "execution_count": null,
      "outputs": [
        {
          "output_type": "stream",
          "name": "stdout",
          "text": [
            "0.7916946872898454\n",
            "0.20830531271015468\n"
          ]
        }
      ]
    },
    {
      "cell_type": "markdown",
      "source": [
        "3. Determinar el intervalo en el cual se encuentra la variación de las siguientes variables: Edad, Altura y Peso."
      ],
      "metadata": {
        "id": "_-Fl1w17yD2t"
      }
    },
    {
      "cell_type": "code",
      "source": [
        "from sklearn.naive_bayes import GaussianNB\n",
        "\n",
        "mnb=GaussianNB()\n",
        "mnb.fit(XD,yd)\n",
        "\n",
        "#Obtenemos la información del modelo\n",
        "u=mnb.theta_\n",
        "print(\"la media de 'Age','Mother_Edu','Father_Edu','FamilySize','Self_Esteem','Height','Weight','Income es:\\n\",u)\n",
        "var=mnb.var_  #Se calculan las varianzas    indica que tan alejados están los datos de la media\n",
        "sigma=np.sqrt(var) #Se calcula la deviación\n",
        "print(\"la desviación de  'Age','Mother_Edu','Father_Edu','FamilySize','Self_Esteem','Height','Weight','Income es :\\n\",sigma)\n",
        "\n",
        "\n",
        "#Se determina los limites superiores e inferiores de los ingresos\n",
        "LS= u+sigma\n",
        "LI= u-sigma\n",
        "print(\"El limite superior de  'Age','Mother_Edu','Father_Edu','FamilySize','Self_Esteem','Height','Weight','Income es:\\n\",LS)\n",
        "print(\"El limite inferior de  'Age','Mother_Edu','Father_Edu','FamilySize','Self_Esteem','Height','Weight','Income es:\\n\",LI)\n"
      ],
      "metadata": {
        "colab": {
          "base_uri": "https://localhost:8080/"
        },
        "id": "1_jXOXTx3GzJ",
        "outputId": "fab86a2a-603f-42ba-e4d8-1db9beea4a73"
      },
      "execution_count": null,
      "outputs": [
        {
          "output_type": "stream",
          "name": "stdout",
          "text": [
            "la media de 'Age','Mother_Edu','Father_Edu','FamilySize','Self_Esteem','Height','Weight','Income es:\n",
            " [[1.83640032e+01 1.07312349e+01 1.02711864e+01 4.73930589e+00\n",
            "  2.19951574e+01 6.72429379e+01 1.49003228e+02 3.01248854e+04]\n",
            " [1.83618603e+01 1.11613931e+01 1.12331705e+01 4.68103631e+00\n",
            "  2.25744319e+01 6.69116585e+01 1.44750903e+02 3.32736742e+04]]\n",
            "la desviación de  'Age','Mother_Edu','Father_Edu','FamilySize','Self_Esteem','Height','Weight','Income es :\n",
            " [[2.47260545e+00 3.15661127e+00 3.88837565e+00 2.55226748e+00\n",
            "  4.21650807e+00 4.08228636e+00 3.03486350e+01 3.16482374e+04]\n",
            " [2.47344359e+00 3.40066236e+00 4.11549881e+00 2.44205851e+00\n",
            "  4.19763081e+00 4.20193102e+00 3.00285301e+01 3.60897302e+04]]\n",
            "El limite superior de  'Age','Mother_Edu','Father_Edu','FamilySize','Self_Esteem','Height','Weight','Income es:\n",
            " [[2.08366087e+01 1.38878461e+01 1.41595621e+01 7.29157338e+00\n",
            "  2.62116655e+01 7.13252242e+01 1.79351863e+02 6.17731228e+04]\n",
            " [2.08353039e+01 1.45620554e+01 1.53486693e+01 7.12309482e+00\n",
            "  2.67720628e+01 7.11135895e+01 1.74779433e+02 6.93634044e+04]]\n",
            "El limite inferior de  'Age','Mother_Edu','Father_Edu','FamilySize','Self_Esteem','Height','Weight','Income es:\n",
            " [[ 1.58913978e+01  7.57462359e+00  6.38281079e+00  2.18703841e+00\n",
            "   1.77786493e+01  6.31606515e+01  1.18654593e+02 -1.52335198e+03]\n",
            " [ 1.58884167e+01  7.76073072e+00  7.11767172e+00  2.23897780e+00\n",
            "   1.83768011e+01  6.27097275e+01  1.14722372e+02 -2.81605593e+03]]\n"
          ]
        },
        {
          "output_type": "stream",
          "name": "stderr",
          "text": [
            "/usr/local/lib/python3.11/dist-packages/sklearn/utils/validation.py:1408: DataConversionWarning: A column-vector y was passed when a 1d array was expected. Please change the shape of y to (n_samples, ), for example using ravel().\n",
            "  y = column_or_1d(y, warn=True)\n"
          ]
        }
      ]
    },
    {
      "cell_type": "markdown",
      "source": [
        "4. Evaluación de un registro"
      ],
      "metadata": {
        "id": "nObxIL-vMo2e"
      }
    },
    {
      "cell_type": "code",
      "source": [
        "# Define las variables de entrada y salida\n",
        "#Se separan las variables de entrada y salida\n",
        "XD=XDB_1[['Age','Mother_Edu','Father_Edu','FamilySize','Self_Esteem','Height','Weight','Income']] #Variables de Entrada\n",
        "yd=XDB_1[['Urban']]   #Variable de salida - variable Pronóstico\n",
        "\n",
        "# Convierte yd en un array 1D\n",
        "yd = yd.values.ravel()\n",
        "\n",
        "# Crea y entrena el modelo\n",
        "mnb = GaussianNB()\n",
        "mnb.fit(XD, yd)\n",
        "\n",
        "# Evaluación a un habitante\n",
        "XDS = [[34, 12, 15, 2, 24, 69, 160, 48000]]\n",
        "\n",
        "# Realiza la predicción\n",
        "ydp = mnb.predict(XDS)\n",
        "\n",
        "# Imprime los resultados\n",
        "print(\"La predicción del habitante es:\", ydp[0])  # Accede al primer elemento de ydp\n",
        "if ydp==0:\n",
        "  print(\"El habitante no vive en zona urbana\")\n",
        "\n",
        "if ydp==1:\n",
        "  print(\"El habitante vive en zona urbana\")\n"
      ],
      "metadata": {
        "colab": {
          "base_uri": "https://localhost:8080/"
        },
        "id": "0CjSYFVmCsmq",
        "outputId": "b30d5a5f-1966-4d97-aada-6471beffe3b9"
      },
      "execution_count": null,
      "outputs": [
        {
          "output_type": "stream",
          "name": "stdout",
          "text": [
            "La predicción del habitante es: 1.0\n",
            "El habitante vive en zona urbana\n"
          ]
        },
        {
          "output_type": "stream",
          "name": "stderr",
          "text": [
            "/usr/local/lib/python3.11/dist-packages/sklearn/utils/validation.py:2739: UserWarning: X does not have valid feature names, but GaussianNB was fitted with feature names\n",
            "  warnings.warn(\n"
          ]
        }
      ]
    },
    {
      "cell_type": "markdown",
      "source": [
        "5. Evaluación de desempeño del modelo.\n",
        "\n",
        "\n"
      ],
      "metadata": {
        "id": "zM5Vg5_vNMTe"
      }
    },
    {
      "cell_type": "code",
      "source": [
        "from functools import cmp_to_key\n",
        "from sklearn.metrics import confusion_matrix\n",
        "\n",
        "#Haga un barrido de los datos\n",
        "ydp2=mnb.predict(XD) #Haga el pronostico para los datos base\n",
        "cm=confusion_matrix(yd,ydp2) #Cree la matriz de confusión\n",
        "print(\"La matriz de confusión es:\\n\",cm)\n",
        "VN=cm[0,0]; FP=cm[0,1]; FN=cm[1,0]; VP=cm[1,1]\n",
        "\n",
        "#METRICAS DESEMPEÑO\n",
        "Ex=(VP+VN)/(VP+VN+FP+FN)\n",
        "print(\"La exactitud del modelo es:\\n\",Ex) #Exactitud: comportamiento general preaprobando\n",
        "\n",
        "TE=(FN+FP)/(VP+VN+FP+FN)\n",
        "print(\"La tasa de error del modelo es:\\n\",TE) #Tasa de error: Comportamiento general no preaprobado\n",
        "\n",
        "Se=VP/(VP+FN)\n",
        "print(\"La sensibilidad del modelo es:\\n\",Se) #Sensibilidad: comportamiento correcto preaprobando\n",
        "\n",
        "Sp=VN/(VN+FP)\n",
        "print(\"La especificidad del modelo es:\\n\",Sp) #Especificidad:comportamiento correcto no preaprobando\n",
        "\n",
        "pre=VP/(VP+FP)\n",
        "print(\"La precisión del modelo es:\\n\",pre) #Precisión: comportamiento correcto preaprobando\n",
        "\n",
        "PrNeg=VN/(VN+FN)\n",
        "print(\"La probabilidad negativa del modelo es:\\n\",PrNeg) #Probabilidad negativa: comportamiento correcto no preaprobando\n",
        "\n",
        "FP=cm[0,1]\n",
        "FN=cm[1,0]\n",
        "VP=cm[1,1]"
      ],
      "metadata": {
        "colab": {
          "base_uri": "https://localhost:8080/"
        },
        "id": "l0i-n8oj6Zfj",
        "outputId": "2e05b157-877c-4b89-f3d2-1be524a3ef18"
      },
      "execution_count": null,
      "outputs": [
        {
          "output_type": "stream",
          "name": "stdout",
          "text": [
            "La matriz de confusión es:\n",
            " [[   3 1236]\n",
            " [   8 4701]]\n",
            "La exactitud del modelo es:\n",
            " 0.7908540685944856\n",
            "La tasa de error del modelo es:\n",
            " 0.20914593140551446\n",
            "La sensibilidad del modelo es:\n",
            " 0.9983011255043533\n",
            "La especificidad del modelo es:\n",
            " 0.002421307506053269\n",
            "La precisión del modelo es:\n",
            " 0.7918140474987367\n",
            "La probabilidad negativa del modelo es:\n",
            " 0.2727272727272727\n"
          ]
        }
      ]
    },
    {
      "cell_type": "markdown",
      "source": [
        "**ANÁLISIS DE RESULTADOS**\n",
        "\n",
        "De acuerdo con la base de datos suministrada, se tomaron como referencia para determinar si una persona vive en un área urbana o en un área rural las variables edad, educación de los padres, estatura, peso, ingresos, escala de autoestima y tamaño de la familia. La base de datos posee un total de 5948 registros, donde el (79,16%) corresponde a los habitantes que viven en área urbana y el (20,83%) corresponde a los que viven en área rural. De manera general, el modelo alcanzó una exactitud del (79,08%), lo que indica un buen desempeño en la clasificación de los datos correspondientes a los habitantes que viven en el área urbana. Sin embargo, muestra una tasa de error del (20,91%), lo que sugiere que aproximadamente una de cada cinco clasificaciones es incorrecta. Con respecto a la métrica de sensibilidad, el modelo tiene un valor de (99,83%), lo que significa que identifica de manera casi perfecta a los habitantes de áreas urbanas. Sin embargo, la especificidad del modelo es extremadamente baja (0,24%), lo que indica que tiene dificultades para identificar correctamente a los habitantes de zonas rurales. Por otro lado, tenemos que la precisión del modelo es de (79,18%), lo que muestra que la mayoría de las predicciones positivas clasificadas como urbanas son correctas. Sin embargo, la baja especificidad sugiere que el modelo clasifica erróneamente a muchos habitantes rurales como urbanos. Finalmente, la probabilidad negativa del modelo es de (27,27%,) lo que indica que existe una proporción considerable de habitantes rurales que no están siendo reconocidos correctamente. Lo anterior nos muestra que aunque el modelo tiene una buena capacidad para identificar habitantes urbanos, su desempeño en la clasificación de habitantes rurales es deficiente.\n"
      ],
      "metadata": {
        "id": "iGr7t0jTNj1Y"
      }
    }
  ]
}